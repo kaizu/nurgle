{
 "cells": [
  {
   "cell_type": "markdown",
   "metadata": {},
   "source": [
    "# Nurgle\n",
    "\n",
    "> \"Buboes, phlegm, blood and guts! Boils, bogeys, rot and pus! Blisters, fevers, weeping sores! From your wounds the fester pours.\"\n",
    "> \n",
    "> -- <cite>The Chant of Nurgle</cite>\n",
    "\n",
    "The following analyses require `jupyterthemes`, `numpy`, `pandas`, and `plotly`. Install them with `pip`."
   ]
  },
  {
   "cell_type": "code",
   "execution_count": null,
   "metadata": {},
   "outputs": [],
   "source": [
    "from jupyterthemes.stylefx import set_nb_theme\n",
    "set_nb_theme('grade3')"
   ]
  },
  {
   "cell_type": "code",
   "execution_count": null,
   "metadata": {},
   "outputs": [],
   "source": [
    "import os\n",
    "PREFIX = os.environ.get('PWD', '.')\n",
    "# PREFIX = \"../build/outputs\""
   ]
  },
  {
   "cell_type": "code",
   "execution_count": null,
   "metadata": {},
   "outputs": [],
   "source": [
    "import numpy\n",
    "import pandas"
   ]
  },
  {
   "cell_type": "code",
   "execution_count": null,
   "metadata": {},
   "outputs": [],
   "source": [
    "import plotly.graph_objs as go\n",
    "import plotly.figure_factory as ff\n",
    "from plotly.offline import init_notebook_mode, iplot\n",
    "init_notebook_mode(connected=True)"
   ]
  },
  {
   "cell_type": "markdown",
   "metadata": {},
   "source": [
    "## Inputs\n",
    "\n",
    "Reading input files for the simulation."
   ]
  },
  {
   "cell_type": "code",
   "execution_count": null,
   "metadata": {},
   "outputs": [],
   "source": [
    "compounds = pandas.read_csv(os.path.join(PREFIX, \"compounds.csv\"))\n",
    "num_compounds = compounds.shape[0]\n",
    "print('[{}] compounds were loaded.'.format(num_compounds))\n",
    "metabolism = pandas.read_csv(os.path.join(PREFIX, \"metabolism.csv\"))\n",
    "print('[{}] reactions were loaded.'.format(metabolism.shape[0]))"
   ]
  },
  {
   "cell_type": "markdown",
   "metadata": {},
   "source": [
    "## Metabolism\n",
    "\n",
    "Here shows profiles and analyses related to the metabolic pathway and chemical compounds.\n",
    "\n",
    "### Concentration of Compounds"
   ]
  },
  {
   "cell_type": "markdown",
   "metadata": {},
   "source": [
    "Reading timecourse data first."
   ]
  },
  {
   "cell_type": "code",
   "execution_count": null,
   "metadata": {},
   "outputs": [],
   "source": [
    "timecourse = pandas.read_csv(os.path.join(PREFIX, \"timecourse.csv\"))\n",
    "timecourse = timecourse.rename(columns={timecourse.columns[0]: \"Time\"})\n",
    "concentrations = pandas.DataFrame(timecourse.values[: , : num_compounds+2], timecourse.index, timecourse.columns[ : num_compounds+2])\n",
    "indices = [0] + list(range(num_compounds+2, timecourse.shape[1]))\n",
    "fluxes = pandas.DataFrame(timecourse.values[: , indices], timecourse.index, timecourse.columns[indices])"
   ]
  },
  {
   "cell_type": "markdown",
   "metadata": {},
   "source": [
    "Plotting concentrations of compounds."
   ]
  },
  {
   "cell_type": "code",
   "execution_count": null,
   "metadata": {
    "tags": [
     "hidden"
    ]
   },
   "outputs": [],
   "source": [
    "def plot1(df, filename, indices=None, nsteps=10, rescaled=False, xlabel=\"\", ylabel=\"\"):\n",
    "    if indices is None:\n",
    "        (m, _) = df.shape\n",
    "        indices = range(0, m, m // nsteps)\n",
    "    if rescaled:\n",
    "        func = lambda idx: df.iloc[idx, 1: ] / df.iloc[0, 1: ]\n",
    "    else:\n",
    "        func = lambda idx: df.iloc[idx, 1: ]\n",
    "\n",
    "    ymin, ymax = +numpy.inf, -numpy.inf\n",
    "    for idx in indices:\n",
    "        y = df.iloc[idx, 1: ] / df.iloc[0, 1: ]\n",
    "        ymin, ymax = min(ymin, min(func(idx))), max(ymax, max(func(idx)))\n",
    "\n",
    "    (ymin, ymax) = ymin - (ymax - ymin) / 15, ymax + (ymax - ymin) / 15\n",
    "\n",
    "    scatters = [\n",
    "        dict(\n",
    "            y=func(idx),\n",
    "            text=df.columns[1: ],\n",
    "            mode='markers',\n",
    "            marker=dict(\n",
    "                size='12', color=func(idx), colorscale='Viridis', showscale=True,\n",
    "                cmin=ymin, cmax=ymax,\n",
    "                line=dict(width=1)\n",
    "                ),\n",
    "            visible=False\n",
    "            )\n",
    "        for idx in indices]\n",
    "    scatters[0]['visible'] = True\n",
    "\n",
    "    steps = []\n",
    "    for i, idx in enumerate(indices):\n",
    "        step = dict(\n",
    "            method='restyle',\n",
    "            label='{}'.format(df.iloc[idx, 0]),\n",
    "            args=['visible', [False] * len(scatters)],\n",
    "            )\n",
    "        step['args'][1][i] = True  # Toggle i'th trace to \"visible\"\n",
    "        steps.append(step)\n",
    "\n",
    "    sliders = [\n",
    "        dict(\n",
    "            active=0,\n",
    "            currentvalue=dict(prefix=\"Time=\"),\n",
    "            pad=dict(t=50),\n",
    "            steps=steps\n",
    "            )\n",
    "        ]\n",
    "\n",
    "    layout = dict(\n",
    "        hovermode= 'closest',\n",
    "        xaxis= dict(title=xlabel),\n",
    "        yaxis=dict(title=ylabel, range=(ymin, ymax)),\n",
    "        showlegend= False,\n",
    "        sliders=sliders,\n",
    "        height=600\n",
    "        )\n",
    "\n",
    "    fig = dict(data=scatters, layout=layout)\n",
    "    iplot(fig, filename=filename)"
   ]
  },
  {
   "cell_type": "code",
   "execution_count": null,
   "metadata": {},
   "outputs": [],
   "source": [
    "plot1(concentrations, \"concentration_markers\", nsteps=15, xlabel=\"Compound\", ylabel=\"Concentration\")"
   ]
  },
  {
   "cell_type": "markdown",
   "metadata": {},
   "source": [
    "Plotting time series of compound concentrations."
   ]
  },
  {
   "cell_type": "code",
   "execution_count": null,
   "metadata": {
    "tags": [
     "hidden"
    ]
   },
   "outputs": [],
   "source": [
    "def plot2(df, filename, ngroups=20, lenlabel=30, rescaled=False, xlabel=\"\", ylabel=\"\"):\n",
    "    indices = list(range(1, df.shape[1]))\n",
    "    tick = len(indices) // (ngroups - 1)\n",
    "    if rescaled:\n",
    "        func = lambda idx: df.iloc[: , idx] / df.iloc[0, idx]\n",
    "    else:\n",
    "        func = lambda idx: df.iloc[: , idx]\n",
    "\n",
    "    ymin, ymax = +numpy.inf, -numpy.inf\n",
    "    for idx in indices:\n",
    "        ymin, ymax = min(ymin, min(func(idx))), max(ymax, max(func(idx)))\n",
    "\n",
    "    (ymin, ymax) = ymin - (ymax - ymin) / 15, ymax + (ymax - ymin) / 15\n",
    "\n",
    "    scatters = [\n",
    "        dict(\n",
    "            x=df.iloc[: , 0],\n",
    "            y=func(idx),\n",
    "            mode='lines',\n",
    "            name=df.columns[idx][: lenlabel],\n",
    "            visible=(idx < tick)\n",
    "            )\n",
    "        for idx in indices]\n",
    "    steps = []\n",
    "    for i in range(ngroups):\n",
    "        step = dict(\n",
    "            method='restyle',\n",
    "            label=i + 1,\n",
    "            args=['visible', [(i * tick <= j < (i + 1) * tick) for j in range(len(scatters))]],\n",
    "            )\n",
    "        if any(step['args'][1]):\n",
    "            steps.append(step)\n",
    "\n",
    "    sliders = [\n",
    "        dict(\n",
    "            active=0,\n",
    "            pad=dict(t=50),\n",
    "            steps=steps,\n",
    "            currentvalue=dict(prefix='Group')\n",
    "            )\n",
    "        ]\n",
    "\n",
    "    layout = dict(\n",
    "        hovermode= 'closest',\n",
    "        xaxis= dict(title=xlabel),\n",
    "        yaxis=dict(title=ylabel, range=(ymin, ymax)),\n",
    "        # showlegend= False,\n",
    "        sliders=sliders,\n",
    "        height=600\n",
    "        )\n",
    "\n",
    "    fig = dict(data=scatters, layout=layout)\n",
    "    iplot(fig, filename=filename)"
   ]
  },
  {
   "cell_type": "code",
   "execution_count": null,
   "metadata": {},
   "outputs": [],
   "source": [
    "plot2(concentrations, \"concentration_lines\", xlabel=\"Time\", ylabel=\"Concentration\")"
   ]
  },
  {
   "cell_type": "code",
   "execution_count": null,
   "metadata": {},
   "outputs": [],
   "source": [
    "plot1(fluxes, \"flux_markers\", nsteps=15, rescaled=True, xlabel=\"Reaction\", ylabel=\"Relative Flux\")"
   ]
  },
  {
   "cell_type": "code",
   "execution_count": null,
   "metadata": {},
   "outputs": [],
   "source": [
    "plot2(fluxes, \"flux_lines\", rescaled=True, xlabel=\"Time\", ylabel=\"Relative Flux\")"
   ]
  },
  {
   "cell_type": "code",
   "execution_count": null,
   "metadata": {},
   "outputs": [],
   "source": []
  }
 ],
 "metadata": {
  "celltoolbar": "Tags",
  "kernelspec": {
   "display_name": "Python 3",
   "language": "python",
   "name": "python3"
  },
  "language_info": {
   "codemirror_mode": {
    "name": "ipython",
    "version": 3
   },
   "file_extension": ".py",
   "mimetype": "text/x-python",
   "name": "python",
   "nbconvert_exporter": "python",
   "pygments_lexer": "ipython3",
   "version": "3.6.3"
  }
 },
 "nbformat": 4,
 "nbformat_minor": 2
}
