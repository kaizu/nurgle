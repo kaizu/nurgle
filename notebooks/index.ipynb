{
 "cells": [
  {
   "cell_type": "markdown",
   "metadata": {},
   "source": [
    "# Nurgle\n",
    "\n",
    "> \"Buboes, phlegm, blood and guts! Boils, bogeys, rot and pus! Blisters, fevers, weeping sores! From your wounds the fester pours.\"\n",
    "> \n",
    "> -- <cite>The Chant of Nurgle</cite>\n",
    "\n",
    "The following analyses require `jupyterthemes`, `numpy`, `pandas`, and `plotly`. Install them with `pip`."
   ]
  },
  {
   "cell_type": "code",
   "execution_count": null,
   "metadata": {},
   "outputs": [],
   "source": [
    "from jupyterthemes.stylefx import set_nb_theme\n",
    "set_nb_theme('grade3')"
   ]
  },
  {
   "cell_type": "code",
   "execution_count": null,
   "metadata": {},
   "outputs": [],
   "source": [
    "import numpy\n",
    "import pandas"
   ]
  },
  {
   "cell_type": "code",
   "execution_count": null,
   "metadata": {},
   "outputs": [],
   "source": [
    "import plotly.graph_objs as go\n",
    "import plotly.figure_factory as ff\n",
    "from plotly.offline import init_notebook_mode, iplot\n",
    "init_notebook_mode(connected=True)"
   ]
  },
  {
   "cell_type": "markdown",
   "metadata": {},
   "source": [
    "## Metabolism\n",
    "\n",
    "### Concentration of Compounds"
   ]
  },
  {
   "cell_type": "markdown",
   "metadata": {},
   "source": [
    "Read timecourse data first."
   ]
  },
  {
   "cell_type": "code",
   "execution_count": null,
   "metadata": {},
   "outputs": [],
   "source": [
    "filename = \"../build/timecourse.csv\"\n",
    "pddata = pandas.read_csv(filename)\n",
    "pddata = pddata.rename(columns={pddata.columns[0]: \"Time\"})"
   ]
  },
  {
   "cell_type": "markdown",
   "metadata": {},
   "source": [
    "Plot concentrations of compounds."
   ]
  },
  {
   "cell_type": "code",
   "execution_count": null,
   "metadata": {},
   "outputs": [],
   "source": [
    "def plot_scatter(df, filename, indices=None, nsteps=10):\n",
    "    if indices is None:\n",
    "        (m, _) = df.shape\n",
    "        indices = range(0, m, m // nsteps)\n",
    "    (ymin, ymax) = (min(df.iloc[indices , 1: ].values.flatten()), max(df.iloc[indices , 1: ].values.flatten()))\n",
    "    (ymin, ymax) = ymin - (ymax - ymin) / 15, ymax + (ymax - ymin) / 15\n",
    "\n",
    "    scatters = [\n",
    "        dict(\n",
    "            y=df.iloc[idx, 1: ],\n",
    "            text=df.columns[1: ],\n",
    "            mode='markers',\n",
    "            marker=dict(\n",
    "                size='12', color=df.iloc[idx, 1: ], colorscale='Viridis', showscale=True,\n",
    "                cmin=ymin, cmax=ymax,\n",
    "                line=dict(width=1)\n",
    "                ),\n",
    "            visible=False\n",
    "            )\n",
    "        for idx in indices]\n",
    "    scatters[0]['visible'] = True\n",
    "\n",
    "    steps = []\n",
    "    for i, idx in enumerate(indices):\n",
    "        step = dict(\n",
    "            method='restyle',\n",
    "            label='{}'.format(df.iloc[idx, 0]),\n",
    "            args=['visible', [False] * len(scatters)],\n",
    "            )\n",
    "        step['args'][1][i] = True  # Toggle i'th trace to \"visible\"\n",
    "        steps.append(step)\n",
    "\n",
    "    sliders = [\n",
    "        dict(\n",
    "            active=0,\n",
    "            currentvalue=dict(prefix=\"Time=\"),\n",
    "            pad=dict(t=50),\n",
    "            steps=steps\n",
    "            )\n",
    "        ]\n",
    "\n",
    "    layout = dict(\n",
    "        hovermode= 'closest',\n",
    "        xaxis= dict(title='Compound'),\n",
    "        yaxis=dict(title='Concentration', range=(ymin, ymax)),\n",
    "        showlegend= False,\n",
    "        sliders=sliders,\n",
    "        height=600\n",
    "        )\n",
    "\n",
    "    fig = dict(data=scatters, layout=layout)\n",
    "    iplot(fig, filename=filename)"
   ]
  },
  {
   "cell_type": "code",
   "execution_count": null,
   "metadata": {},
   "outputs": [],
   "source": [
    "plot_scatter(pddata, \"compound\", nsteps=15)"
   ]
  },
  {
   "cell_type": "code",
   "execution_count": null,
   "metadata": {},
   "outputs": [],
   "source": []
  }
 ],
 "metadata": {
  "kernelspec": {
   "display_name": "Python 3",
   "language": "python",
   "name": "python3"
  },
  "language_info": {
   "codemirror_mode": {
    "name": "ipython",
    "version": 3
   },
   "file_extension": ".py",
   "mimetype": "text/x-python",
   "name": "python",
   "nbconvert_exporter": "python",
   "pygments_lexer": "ipython3",
   "version": "3.6.3"
  }
 },
 "nbformat": 4,
 "nbformat_minor": 2
}
